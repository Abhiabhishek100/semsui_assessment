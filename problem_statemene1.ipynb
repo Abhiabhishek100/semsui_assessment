{
 "cells": [
  {
   "cell_type": "code",
   "execution_count": 1,
   "id": "a991b696-211b-49db-83fc-b4d293af7c9c",
   "metadata": {},
   "outputs": [],
   "source": [
    "import pandas as pd"
   ]
  },
  {
   "cell_type": "code",
   "execution_count": 3,
   "id": "0712c242-3289-498b-9996-12a290ebb45e",
   "metadata": {},
   "outputs": [
    {
     "name": "stderr",
     "output_type": "stream",
     "text": [
      "C:\\Users\\tarun\\AppData\\Local\\Temp\\ipykernel_33812\\138863542.py:1: DtypeWarning: Columns (1,4,5,6,13,14,15,16) have mixed types. Specify dtype option on import or set low_memory=False.\n",
      "  df=pd.read_csv(\"md.csv\")\n"
     ]
    }
   ],
   "source": [
    "df=pd.read_csv(\"md.csv\")"
   ]
  },
  {
   "cell_type": "code",
   "execution_count": 9,
   "id": "d840fe08-bd82-4217-afb8-3e147340a27b",
   "metadata": {},
   "outputs": [
    {
     "data": {
      "text/plain": [
       "Index(['cord_uid', 'sha', 'source_x', 'title', 'doi', 'pmcid', 'pubmed_id',\n",
       "       'license', 'abstract', 'publish_time', 'authors', 'journal', 'mag_id',\n",
       "       'who_covidence_id', 'arxiv_id', 'pdf_json_files', 'pmc_json_files',\n",
       "       'url', 's2_id'],\n",
       "      dtype='object')"
      ]
     },
     "execution_count": 9,
     "metadata": {},
     "output_type": "execute_result"
    }
   ],
   "source": [
    "df.columns"
   ]
  },
  {
   "cell_type": "code",
   "execution_count": 13,
   "id": "fc76a0f9-9263-4ba3-a81d-4f2d3cfc79af",
   "metadata": {},
   "outputs": [
    {
     "name": "stdout",
     "output_type": "stream",
     "text": [
      "    cord_uid                                              title  \\\n",
      "5   zjufx4fo  Sequence requirements for RNA strand transfer ...   \n",
      "19  4k8f7ou1  Bioinformatic mapping of AlkB homology domains...   \n",
      "22  yba7mdtb  Detection and characterization of horizontal t...   \n",
      "23  bbvxu8op  Comparisons of substitution, insertion and del...   \n",
      "26  zowp10ts  Recombination Every Day: Abundant Recombinatio...   \n",
      "\n",
      "                                             abstract  \n",
      "5   Nidovirus subgenomic mRNAs contain a leader se...  \n",
      "19  BACKGROUND: AlkB-like proteins are members of ...  \n",
      "22  Horizontal DNA transfer is an important factor...  \n",
      "23  Although oligonucleotide probes complementary ...  \n",
      "26  Viral recombination can dramatically impact ev...  \n"
     ]
    }
   ],
   "source": [
    "# Define keywords to filter articles\n",
    "keywords = [\"SARS-CoV-2\", \"genome\", \"COVID-19\", \"mutation\", \"virus evolution\"]\n",
    "\n",
    "# Filter the data\n",
    "filtered_data = df[\n",
    "    df['title'].str.contains('|'.join(keywords), case=False, na=False) |\n",
    "    df['abstract'].str.contains('|'.join(keywords), case=False, na=False)\n",
    "]\n",
    "\n",
    "# Display filtered articles\n",
    "print(filtered_data[['cord_uid', 'title', 'abstract']].head())\n"
   ]
  },
  {
   "cell_type": "code",
   "execution_count": 14,
   "id": "cff5b96b-cb27-40d1-a881-6025447e217d",
   "metadata": {},
   "outputs": [
    {
     "name": "stdout",
     "output_type": "stream",
     "text": [
      "    cord_uid                                              title  \\\n",
      "5   zjufx4fo  Sequence requirements for RNA strand transfer ...   \n",
      "19  4k8f7ou1  Bioinformatic mapping of AlkB homology domains...   \n",
      "22  yba7mdtb  Detection and characterization of horizontal t...   \n",
      "23  bbvxu8op  Comparisons of substitution, insertion and del...   \n",
      "26  zowp10ts  Recombination Every Day: Abundant Recombinatio...   \n",
      "\n",
      "                                       pdf_json_files  \\\n",
      "5   document_parses/pdf_json/b2897e1277f56641193a6...   \n",
      "19  document_parses/pdf_json/83b05e8afa6cbe7a68170...   \n",
      "22  document_parses/pdf_json/f1d1b9694aa43c837d9b7...   \n",
      "23  document_parses/pdf_json/867e1b0f6ca8757f2a32a...   \n",
      "26  document_parses/pdf_json/03203ab50eb64271a9e82...   \n",
      "\n",
      "                                  pmc_json_files  \n",
      "5    document_parses/pmc_json/PMC125340.xml.json  \n",
      "19   document_parses/pmc_json/PMC544882.xml.json  \n",
      "22   document_parses/pmc_json/PMC546175.xml.json  \n",
      "23   document_parses/pmc_json/PMC549431.xml.json  \n",
      "26  document_parses/pmc_json/PMC1054884.xml.json  \n"
     ]
    }
   ],
   "source": [
    "# Extract articles with available full-text JSON files\n",
    "full_text_data = filtered_data[filtered_data['pdf_json_files'].notna() | filtered_data['pmc_json_files'].notna()]\n",
    "\n",
    "# Display relevant columns\n",
    "print(full_text_data[['cord_uid', 'title', 'pdf_json_files', 'pmc_json_files']].head())\n"
   ]
  },
  {
   "cell_type": "code",
   "execution_count": null,
   "id": "75c99bc8-1ad3-4637-9f19-78329896fd2b",
   "metadata": {},
   "outputs": [],
   "source": [
    "import json\n",
    "\n",
    "# Function to load full-text JSON files\n",
    "def load_full_text(file_path):\n",
    "    file_path=file_path+\n",
    "    try:\n",
    "        with open(file_path, 'r') as f:\n",
    "            data = json.load(f)\n",
    "        # Extract text from sections\n",
    "        text = \" \".join([section['text'] for section in data['body_text']])\n",
    "        return text\n",
    "    except Exception as e:\n",
    "        print(f\"Error loading file {file_path}: {e}\")\n",
    "        return None\n",
    "\n",
    "# Example: Load and display full-text content\n",
    "sample_file = full_text_data['pdf_json_files'].iloc[0].split(';')[0]  # Use the first available file path\n",
    "full_text = load_full_text(sample_file)\n",
    "# Display first 1000 characters\n"
   ]
  },
  {
   "cell_type": "code",
   "execution_count": null,
   "id": "bd29f257-2192-4f29-80b3-7fba299d57a9",
   "metadata": {},
   "outputs": [],
   "source": [
    "import spacy\n",
    "\n",
    "# Load a pre-trained model (e.g., SciSpacy for biomedical text)\n",
    "nlp = spacy.load(\"en_core_sci_sm\")  # Install using \"pip install scispacy\"\n",
    "\n",
    "# Process the text\n",
    "doc = nlp(full_text)\n",
    "\n",
    "# Extract named entities related to the genome\n",
    "entities = [(ent.text, ent.label_) for ent in doc.ents]\n",
    "print(entities)\n"
   ]
  },
  {
   "cell_type": "code",
   "execution_count": null,
   "id": "fe2886f1-f87f-4036-afc4-2fbbbb3601fb",
   "metadata": {},
   "outputs": [],
   "source": [
    "import networkx as nx\n",
    "import matplotlib.pyplot as plt\n",
    "\n",
    "# Example: Create a simple graph\n",
    "G = nx.Graph()\n",
    "\n",
    "# Add nodes (entities)\n",
    "for entity, label in entities:\n",
    "    G.add_node(entity, label=label)\n",
    "\n",
    "# Add edges (relationships) manually or based on extracted relationships\n",
    "# Example edge\n",
    "G.add_edge(\"SARS-CoV-2\", \"genome\")\n",
    "\n",
    "# Visualize the graph\n",
    "plt.figure(figsize=(10, 6))\n",
    "nx.draw(G, with_labels=True, node_color='lightblue', edge_color='gray', font_size=10, font_weight='bold')\n",
    "plt.show()\n"
   ]
  },
  {
   "cell_type": "code",
   "execution_count": null,
   "id": "0ddc62c8-d9a9-4d8f-9839-13cc74f1629b",
   "metadata": {},
   "outputs": [],
   "source": [
    "# Save filtered data to a CSV file\n",
    "filtered_data.to_csv(\"filtered_cord19_data.csv\", index=False)\n",
    "\n",
    "# Save extracted entities to a file\n",
    "with open(\"entities.txt\", \"w\") as f:\n",
    "    for entity, label in entities:\n",
    "        f.write(f\"{entity}\\t{label}\\n\")\n"
   ]
  }
 ],
 "metadata": {
  "kernelspec": {
   "display_name": "Python 3 (ipykernel)",
   "language": "python",
   "name": "python3"
  },
  "language_info": {
   "codemirror_mode": {
    "name": "ipython",
    "version": 3
   },
   "file_extension": ".py",
   "mimetype": "text/x-python",
   "name": "python",
   "nbconvert_exporter": "python",
   "pygments_lexer": "ipython3",
   "version": "3.9.18"
  }
 },
 "nbformat": 4,
 "nbformat_minor": 5
}
